{
 "cells": [
  {
   "cell_type": "markdown",
   "metadata": {
    "id": "ENrAHrR9npr1"
   },
   "source": [
    "# COGS 108 - Final Project Proposal"
   ]
  },
  {
   "cell_type": "markdown",
   "metadata": {
    "id": "bkn5zd9Qnpr2"
   },
   "source": [
    "# Names\n",
    "\n",
    "- Fengdi Liu\n",
    "- Tianyu Yu\n",
    "- Shaolong Li\n",
    "- Hanjie Zhan\n"
   ]
  },
  {
   "cell_type": "markdown",
   "metadata": {
    "id": "UAugOULUnpr2"
   },
   "source": [
    "# Research Question"
   ]
  },
  {
   "cell_type": "markdown",
   "metadata": {
    "id": "5oZeLDMgnpr3"
   },
   "source": [
    "Is the frequency of terrorist attacks related to countries' GDP/location/government type/CO2 emission? Do terrorist attacks happen more often in certain places like plazas or bathrooms?"
   ]
  },
  {
   "cell_type": "markdown",
   "metadata": {
    "id": "bj9kqgDCnpr3"
   },
   "source": [
    "## Background and Prior Work"
   ]
  },
  {
   "cell_type": "markdown",
   "metadata": {
    "id": "h0jeE4Qonpr3"
   },
   "source": [
    "Terrorism, for a long time, has always been a significant concern among different countries. Different countries can all agree that terrorist attacks are inhumane, destructive, and can never be tolerated. Based on this common knowledge, we believe all governments wish to fight against terrorism and predict the attacks in advance to have a faster response. Even though we all know that terrorist attacks are problems, we cannot stop them from happening. Global terrorism peaked in 2014 with more than 13,500 attacks, which resulted in 33,555 deaths. From 2011 to 2014, terrorism-related deaths increased by 353%, and terrorist incidents rose by 190%.\" Terrorist attacks happen every year in this world, and everyone feels sad for the lost. Meanwhile, everyone might be involved in it. The terrorist attack is unpredictable, and it is the suffering of the world. We all want to live in a peaceful and safe place with a good life. So we would like to pick the terrorist attack and GDP's relationship as our research topic. We would like to find some pattern through the data analysis or find the terrorist attack's influence on the area's economy. We saw many ideas from the article \"The Economic Impact of Terrorism from 2000 to 2018.\" [1] .In this article, the author analyzes the terrorist attack from 2000 to 2018 and shows us the life lost, injured, indirect GDP impact, and the GDP's declined rate after the attack. It is obvious that after suffering from terrorist attacks, those countries' GDP fell. \n",
    "\n",
    "Another prior work we found is about the San Miguel del Ene attack. The attack was a massacre on 23 May 2021 in San Miguel del Ene, a rural area in the Vizcatán del Ene District of Satipo Province in Peru, in which 18 people were killed. The attack happened at 10 pm local time. The massing shooting includes ten men, six women, and two minors in the red-light zone bar. The attack was two weeks before the run-off vote in the 2021 presidential election. The reason for the attack is unknown. However, it may have a relationship with the voting day for the president because it happened just three weeks ago before the run-off office [2]. \n",
    "\n",
    "In the journal article \"Chapter 3. The Cause and Threat of Terrorism\", the author discusses three causes of terrorism [3]. One of the causes is to seek public support and attention. We think this is interesting since if we can find some events related to this desire in different counties, we might use it to predict terrorist attacks.\n",
    "\n",
    "In the journal article \"Causality between terrorism and economic growth\", the author conlcude there is a causality between terrorism and economic growth but the causality can vary due to other factor such as ideological patterns, low level political openness and high levels of political instability [4]. This journal article can be really helpful because not only if related terrorism to economic growth and also other fectors such as religion, political openness and level of political stability, which can help us predict terrorist attacks more precise. \n",
    "\n",
    "References (include links):\n",
    "- 1) https://www.degruyter.com/document/doi/10.1515/peps-2020-0031/html\n",
    "- 2)https://www.youtube.com/watch?v=heQ3h364VMo\n",
    "- 3)https://www.jstor.org/stable/resrep05041.7?Search=yes&resultItemClick=true&searchText=Terrorism+location&searchUri=%2Faction%2FdoBasicSearch%3FQuery%3DTerrorism%2Blocation%26acc%3Don%26wc%3Don%26fc%3Doff%26group%3Dnone%26refreqid%3Dsearch%253Ae0423e7beac3917d682ebb9d6a2141a2&ab_segments=0%2Fbasic_search_gsv2%2Fcontrol&refreqid=fastly-default%3A5fc6e00e78494278b64797dceaafc781&seq=15#metadata_info_tab_contents\n",
    "- 4)https://journals.sagepub.com/doi/full/10.1177/0022343312445650?casa_token=NV4gCv_l6HEAAAAA%3AdkF8-QIYc5Ebihgp92E29PFfRrZQ6O6w9YcvcNeB377XDwH7vuP3i06hJqWG1guF33aEYo_QL-uREg"
   ]
  },
  {
   "cell_type": "markdown",
   "metadata": {
    "id": "W6LVgMSKnpr4"
   },
   "source": [
    "# Hypothesis\n"
   ]
  },
  {
   "cell_type": "markdown",
   "metadata": {
    "id": "RQ3Cn1QTnpr5"
   },
   "source": [
    "*We hypothesize that lower GDP and certain country location/government type are more likely to encounter terrorist attacks. Also, we hypothesize that we can make a rough prediction of attacks' frequency and time/location using certain inputs.*"
   ]
  },
  {
   "cell_type": "markdown",
   "metadata": {
    "id": "CRTcfmQXnpr5"
   },
   "source": [
    "# Data"
   ]
  },
  {
   "cell_type": "markdown",
   "metadata": {
    "id": "5Si7AycSnpr5"
   },
   "source": [
    "We need several datasets to prove or reject our hypothesis. The first dataset we need is the terrorism-related dataset. We expect to see the number of terrorist attacks in different counties in decades in this ideal dataset. Variables should be country names, attack location, attack date and time, attack mortality, and so on. The original dataset is huge, since it includes a lot of detailed information, like different attack cities, locations, and recorded all terrorist attacks from 1970 to 2017. Even though we need a lot of observations in the dataset since we need data from all counties,  it should contain more than 1000 rows. The original data set is way too big, which includes 181691 rows and 24 columns. The data should be stored in an organized CSV file. The link is: https://www.kaggle.com/START-UMD/gtd . And we changed the dataset's name to globalterrorism.csv for data cleaning. We will clean this dataset in the data checkpoint part.\n",
    "\n",
    "\n",
    "The second dataset we need is the CO2 emissions from different counties in different years. We expect to see the amount of CO2 emissions in this ideal dataset. Variables should be country names (Also can use the countries' code which is the short version of countries' name), the amount of CO2 emissions, and different years. This dataset is very large, with 63180 observations. The origin dataset includes 234 different countries and areas in the world, and covers the CO2 emissions amount from the year 1750 to 2019. The data should be stored in an organized CSV file. This dataset is about CO2 and GHG emission data: https://www.kaggle.com/chavansumit/co2emissiondataset, and we changed the data link into a local file and named ‘co2.csv’. We will clean the dataset, only keep the data country name, year, and Annual Co2 emissions, meanwhile we will delete the years from 1750 to 1969 to analyze. We will do the data cleaning in data check point part, and will only keep 11232 observations.\n",
    "\n",
    "\n",
    "The third dataset is the tracking of the health status as well as many other related factors for all countries. This dataset related to life expectancy, health factors for 193 countries. All categories of health-related factors only those critical factors were chosen which are more representative includes year, country name, life expectancy (in age), infant death rate (number of infant deaths per 1000 population), BMI (Average Body Mass Index of entire population), Schooling (number of years of schooling), GDP, and so on and so forth. This dataset includes a lot of useful information which related to our research. This dataset consists of 22 Columns and 2938 rows which meant 20 predicting variables. And we will do some data cleaning based on this dataset in data check point part. The data should be stored in 'Life Expectancy Data.csv' CSV file. The link is: https://www.kaggle.com/kumarajarshi/life-expectancy-who.     "
   ]
  },
  {
   "cell_type": "markdown",
   "metadata": {
    "id": "_LvGvulMnpr5"
   },
   "source": [
    "## Ethics & Privacy"
   ]
  },
  {
   "cell_type": "markdown",
   "metadata": {
    "id": "5gUnkqpmnpr6"
   },
   "source": [
    "In this project, we are going to analysis different datasets, which related to different countries's GDP, carbon dioxide emissions, different countries' terrorist attacks numbers, dates, different countries' holiday schedules, etc. To find the relationship between countries' economic level and terrorist attack numbers.  \n",
    "\n",
    "Our project will satisfy the ethical principles of the Belmont Report. All datas we used are public resource, and for data analysis, which did not offend any race, gender, or age group. Meanwhile our project will respect human right since all individuals in each dataset was treated as autonomous agents. \n",
    "\n",
    "Also, we will have beneficence by doing no harm and respecting people's decisions. The data will come from public datasets, so we are not violating anyone's wills. \n",
    "\n",
    "We will also justice for this project. We will make sure the benefits of this project will be distributed fairly and can be applied by different countries.\n",
    "\n",
    "Usually there exists several most common type of bias when we collecting the date. And for different bias, we have different method to avoid.\n",
    "1. Confirmation bias, which usually occurs when the data analysist performing the data analysis wants to prove a predetermined assumption. To avoid this type of bias, we are not going to set out to prove a predefined conclusion, but rather to test presumed hypotheses in a targeted way.\n",
    "2. Selection bias, which occurs when data is selected subjectively. To avoid this type of bias,we will always make sure the samples those used for research, and avoid false extrapolation.\n",
    "3. Outliner, which is an extreme data value. To avoid this type of bias, we will read the data very carefully, find the average value, and avoid the extreme case.\n",
    "4. The last one is preconceived bias, which means the opinion or feeling toward a person, group, or event. To avoid preconceived bias, we need to strictly follow the steps of our inferential statistical test and be objectly. We shouldn't use our prior knowledge to judge anything except for inferring from our datasets."
   ]
  },
  {
   "cell_type": "markdown",
   "metadata": {
    "id": "zuGhvVvAnpr6"
   },
   "source": [
    "# Team Expectations "
   ]
  },
  {
   "cell_type": "markdown",
   "metadata": {
    "id": "6yYTGZGZnpr6"
   },
   "source": [
    "* *Be respectful to each other*\n",
    "* *Be responsible to individual parts*\n",
    "* *Be on time to attend group discussion*\n",
    "* *Be open minded about others' ideas*"
   ]
  },
  {
   "cell_type": "markdown",
   "metadata": {
    "id": "oLy-A9k2npr6"
   },
   "source": [
    "# Project Timeline Proposal"
   ]
  },
  {
   "cell_type": "markdown",
   "metadata": {
    "id": "GdQ_13cvnpr6"
   },
   "source": [
    "| Meeting Date  | Meeting Time| Completed Before Meeting  | Discuss at Meeting |\n",
    "|---|---|---|---|\n",
    "| 10/18  |  3 PM | Read & Think about COGS 108 expectations; brainstorm topics/questions  | Determine best form of communication; Discuss and decide on final project topic; discuss hypothesis; begin background research | \n",
    "| 10/25  |  3 PM |  Do background research on topic | Discuss ideal dataset(s) and ethics; draft project proposal | \n",
    "| 10/28  | 3 PM  | Edit, finalize, and submit proposal; Search for datasets  | Discuss Wrangling and possible analytical approaches; Assign group members to lead each specific part   |\n",
    "| 11/08  | 3 PM  | Import & Wrangle Data (Tianyu); EDA (HanJie) | Review/Edit wrangling/EDA; Discuss Analysis Plan   |\n",
    "| 11/15  | 3 PM  | Finalize wrangling/EDA; Begin Analysis (Tianyu; Shaolong) | Discuss/edit Analysis; Complete project check-in |\n",
    "| 11/22  | 3 PM  | Complete analysis; Draft results/conclusion/discussion (Shaolong)| Discuss/edit full project |\n",
    "| 12/03  | Before 11:59 PM  | NA | Turn in Final Project & Group Project Surveys |"
   ]
  },
  {
   "cell_type": "code",
   "execution_count": null,
   "metadata": {
    "id": "UE59JWVTnpr7"
   },
   "outputs": [],
   "source": []
  }
 ],
 "metadata": {
  "colab": {
   "collapsed_sections": [],
   "name": "ProjectProposalGroup039-Fa21.ipynb",
   "provenance": []
  },
  "kernelspec": {
   "display_name": "Python 3",
   "language": "python",
   "name": "python3"
  },
  "language_info": {
   "codemirror_mode": {
    "name": "ipython",
    "version": 3
   },
   "file_extension": ".py",
   "mimetype": "text/x-python",
   "name": "python",
   "nbconvert_exporter": "python",
   "pygments_lexer": "ipython3",
   "version": "3.8.8"
  }
 },
 "nbformat": 4,
 "nbformat_minor": 1
}
